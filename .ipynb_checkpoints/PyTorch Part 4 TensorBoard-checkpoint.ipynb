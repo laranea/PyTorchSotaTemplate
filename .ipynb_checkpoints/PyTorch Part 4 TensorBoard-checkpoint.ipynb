{
 "cells": [
  {
   "cell_type": "code",
   "execution_count": 15,
   "metadata": {},
   "outputs": [
    {
     "name": "stdout",
     "output_type": "stream",
     "text": [
      "TensorFlow installation not found - running with reduced feature set.\n",
      "2.1.0\n"
     ]
    }
   ],
   "source": [
    "! tensorboard --version"
   ]
  },
  {
   "cell_type": "code",
   "execution_count": 16,
   "metadata": {},
   "outputs": [],
   "source": [
    "import torch.utils.tensorboard"
   ]
  },
  {
   "cell_type": "code",
   "execution_count": 17,
   "metadata": {},
   "outputs": [],
   "source": [
    "import torch\n",
    "import torch.nn as nn\n",
    "import torch.nn.functional as F\n",
    "import torch.optim as optim\n",
    "\n",
    "import torchvision\n",
    "import torchvision.transforms as transforms\n",
    "\n",
    "torch.set_printoptions(linewidth=120)\n",
    "torch.set_grad_enabled(True)\n",
    "\n",
    "from torch.utils.tensorboard import SummaryWriter"
   ]
  },
  {
   "cell_type": "code",
   "execution_count": 18,
   "metadata": {},
   "outputs": [
    {
     "name": "stdout",
     "output_type": "stream",
     "text": [
      "1.4.0\n",
      "0.5.0\n"
     ]
    }
   ],
   "source": [
    "print(torch.__version__)\n",
    "print(torchvision.__version__)"
   ]
  },
  {
   "cell_type": "code",
   "execution_count": 19,
   "metadata": {},
   "outputs": [],
   "source": [
    "def accuracy_nums(preds,labels):\n",
    "    return (preds.argmax(dim=1).eq(labels).sum().item())\n"
   ]
  },
  {
   "cell_type": "code",
   "execution_count": 20,
   "metadata": {},
   "outputs": [],
   "source": [
    "class Network(nn.Module): #Line 1\n",
    "    def __init__(self):\n",
    "        super().__init__() # Line 3\n",
    "        \n",
    "        self.conv1=nn.Conv2d(in_channels=1, out_channels=6, kernel_size=5)\n",
    "        self.conv2=nn.Conv2d(in_channels=6, out_channels=12, kernel_size=5)\n",
    "        \n",
    "        self.fc1=nn.Linear(in_features=12*4*4, out_features=120)# 12 comnes from output of 12 channel in conv2\n",
    "        self.fc2=nn.Linear(in_features=120, out_features=60)\n",
    "        \n",
    "        self.out=nn.Linear(in_features=60, out_features=10)\n",
    "        \n",
    "    def forward(self, t):\n",
    "        # (1) Input Layer\n",
    "        #t=t\n",
    "        \n",
    "        # (2) hidden conv1 Layer\n",
    "        t=self.conv1(t)\n",
    "        t=F.relu(t)\n",
    "        t=F.max_pool2d(t, kernel_size=2, stride=2)\n",
    "        \n",
    "        # (3) hidden conv2 Layer\n",
    "        t=self.conv2(t)\n",
    "        t=F.relu(t)\n",
    "        t=F.max_pool2d(t, kernel_size=2, stride=2)\n",
    "        \n",
    "        # (4) hidden linear1 layer\n",
    "        t=t.reshape(-1, 12*4*4) # Need to flatten before using FC layer \n",
    "        t=self.fc1(t)\n",
    "        t=F.relu(t)\n",
    "        \n",
    "        # (5) Hidden linear2 layer\n",
    "        t=self.fc2(t)\n",
    "        t=F.relu(t)\n",
    "        \n",
    "        # (6) Output layer\n",
    "        t=self.out(t)\n",
    "        # Avoiding softmax because we will use cross entropy loss fucntion which has built in softmax fucntion.\n",
    "        #t=F.softmax(t, dim=1) \n",
    "        # THhis alllows the network to not compute the additiional operation while network is been infrenced. But computaion will of course work.\n",
    "        \n",
    "        \n",
    "        \n",
    "        return t\n",
    "network=Network()"
   ]
  },
  {
   "cell_type": "code",
   "execution_count": 21,
   "metadata": {},
   "outputs": [],
   "source": [
    "train_set=torchvision.datasets.FashionMNIST(\n",
    "    root='./data/FashionMINIST',\n",
    "    train=True,\n",
    "    download=True,\n",
    "    transform=transforms.Compose( # For composition of transforamtion here onlu one transformation is sufficient \n",
    "        [transforms.ToTensor()]\n",
    "        )\n",
    ")\n",
    "train_loader=torch.utils.data.DataLoader(\n",
    "    train_set, \n",
    "    batch_size=100, #Default batach size =1\n",
    "    shuffle=True\n",
    ")\n",
    "batch=next(iter(train_loader))\n",
    "images, labels =batch"
   ]
  },
  {
   "cell_type": "markdown",
   "metadata": {},
   "source": [
    "## Starting with Tensorboard Now\n",
    "1. Network Graph\n",
    "2. Images"
   ]
  },
  {
   "cell_type": "code",
   "execution_count": 22,
   "metadata": {},
   "outputs": [],
   "source": [
    "tb=SummaryWriter()\n",
    "\n",
    "grid=torchvision.utils.make_grid(images) # We used this earlier to print multiple images in notbook\n",
    "\n",
    "tb.add_image('images', grid)\n",
    "tb.add_graph(network, images)\n",
    "\n",
    "tb.close()"
   ]
  },
  {
   "cell_type": "markdown",
   "metadata": {},
   "source": [
    "## Training Loop"
   ]
  },
  {
   "cell_type": "code",
   "execution_count": 24,
   "metadata": {},
   "outputs": [
    {
     "name": "stdout",
     "output_type": "stream",
     "text": [
      "Epoch, 0 Total Correct: 51080 loss: 244.58118100464344\n"
     ]
    }
   ],
   "source": [
    "optimizer=optim.Adam(network.parameters(), lr=0.01)\n",
    "\n",
    "tb=SummaryWriter()\n",
    "tb.add_image('images', grid)\n",
    "tb.add_graph(network, images)\n",
    "\n",
    "\n",
    "for epoch in range(10):\n",
    "    total_loss=0\n",
    "    total_correct=0\n",
    "    for batch in train_loader:\n",
    "        images, labels =batch\n",
    "\n",
    "        preds=network(images) # Predict from Batch\n",
    "        loss=F.cross_entropy(preds, labels)# This has the all the data to for back prop\n",
    "\n",
    "        optimizer.zero_grad() # Needed becuase Pytorch makes gradiesnt cumulative, which we do not want\n",
    "        loss.backward() # Back-prop to find gradients\n",
    "        optimizer.step() # Updating weights\n",
    "        \n",
    "        total_correct+=accuracy_nums(preds,labels)    \n",
    "        total_loss+=loss.item()\n",
    "    \n",
    "    tb.add_scalar(\"Loss\", total_loss, epoch)\n",
    "    tb.add_scalar(\"Number Correct\", total_correct, epoch)\n",
    "    tb.add_scalar(\"Accuracy\", total_correct/len(train_set), epoch)\n",
    "    \n",
    "\n",
    "    tb.add_histogram('conv1.bias',network.conv1.bias,epoch)\n",
    "    tb.add_histogram('conv1.weight',network.conv1.weight,epoch)\n",
    "    tb.add_histogram('conv1.weight.grad',network.conv1.weight.grad,epoch)\n",
    "    \n",
    "    \n",
    "    print(\"Epoch,\",epoch,\"Total Correct:\", total_correct, \"loss:\", total_loss)    "
   ]
  }
 ],
 "metadata": {
  "kernelspec": {
   "display_name": "Python 3",
   "language": "python",
   "name": "python3"
  },
  "language_info": {
   "codemirror_mode": {
    "name": "ipython",
    "version": 3
   },
   "file_extension": ".py",
   "mimetype": "text/x-python",
   "name": "python",
   "nbconvert_exporter": "python",
   "pygments_lexer": "ipython3",
   "version": "3.7.7"
  }
 },
 "nbformat": 4,
 "nbformat_minor": 4
}
